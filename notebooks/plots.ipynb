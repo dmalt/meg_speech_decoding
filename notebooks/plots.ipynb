{
 "cells": [
  {
   "cell_type": "code",
   "execution_count": 82,
   "metadata": {},
   "outputs": [],
   "source": [
    "import json\n",
    "import os\n",
    "from tqdm import tqdm_notebook\n",
    "import numpy as np"
   ]
  },
  {
   "cell_type": "code",
   "execution_count": 85,
   "metadata": {},
   "outputs": [],
   "source": [
    "RESULTS_FOLDER = \"../results\"\n",
    "PREFIX_SIZE = len(\"regression_\")\n",
    "SUFFUX_SIZE = len(\"_2021-09-12 08:03:12.537362.json\")"
   ]
  },
  {
   "cell_type": "code",
   "execution_count": 94,
   "metadata": {},
   "outputs": [
    {
     "name": "stderr",
     "output_type": "stream",
     "text": [
      "/home/pet67/.local/lib/python3.6/site-packages/ipykernel_launcher.py:2: TqdmDeprecationWarning: This function will be removed in tqdm==5.0.0\n",
      "Please use `tqdm.notebook.tqdm` instead of `tqdm.tqdm_notebook`\n",
      "  \n"
     ]
    },
    {
     "data": {
      "application/vnd.jupyter.widget-view+json": {
       "model_id": "295aef27b918473e83dfb23bc540844c",
       "version_major": 2,
       "version_minor": 0
      },
      "text/plain": [
       "  0%|          | 0/55 [00:00<?, ?it/s]"
      ]
     },
     "metadata": {},
     "output_type": "display_data"
    },
    {
     "name": "stdout",
     "output_type": "stream",
     "text": [
      "SimpleNetBase_WithLSTM__CNANNELS_6_11__LAG_1500_1500__80MELS\n",
      "SimpleNetBase_WithLSTM__CNANNELS_18_23__LAG_1500_0__80MELS\n",
      "SimpleNetBase_WithLSTM__CNANNELS_24_29__LAG_1500_0__80MELS\n",
      "SimpleNetBase_WithLSTM__CNANNELS_6_10__LAG_1500_0__80MELS\n",
      "LargeNet__CNANNELS_6_11__LAG_1500_1500__80MELS\n",
      "SimpleNetBase_WithLSTM__CNANNELS_6_11__LAG_0_1500__80MELS\n",
      "SimpleNetBase_WithLSTM__CNANNELS_24_29__LAG_1500_0__80MELS\n",
      "SimpleNetBase_WithLSTM__CNANNELS_0_5__LAG_1500_0__80MELS\n",
      "SimpleNetBase_WithLSTM__CNANNELS_18_23__LAG_1500_0__80MELS\n",
      "SimpleNetBase_WithLSTM__CNANNELS_18_23__LAG_1500_0__80MELS\n",
      "SimpleNetBase_WithLSTM__CNANNELS_6_11__LAG_1500_0__80MELS\n",
      "SimpleNetBase_WithLSTM__CNANNELS_6_11__LAG_1500_0__80MELS\n",
      "SimpleNetBase_WithLSTM__CNANNELS_12_17__LAG_1500_0__80MELS\n",
      "LargeNet__CNANNELS_6_11__LAG_1500_1500__80MELS\n",
      "SimpleNetBase_WithLSTM__CNANNELS_6_11__LAG_0_1500__80MELS\n",
      "SimpleNetBase_WithLSTM__CNANNELS_24_29__LAG_1500_0__80MELS\n",
      "SimpleNetBase_WithLSTM__CNANNELS_24_29__LAG_1500_0__80MELS\n",
      "SimpleNetBase_WithLSTM__CNANNELS_6_11__LAG_0_1500__80MELS\n",
      "SimpleNetBase_WithLSTM__CNANNELS_6_11__LAG_1500_0__80MELS\n",
      "SimpleNetBase_WithLSTM__CNANNELS_12_17__LAG_1500_0__80MELS\n",
      "SimpleNetBase_WithLSTM__CNANNELS_0_5__LAG_1500_0__80MELS\n",
      "SimpleNetBase_WithLSTM__CNANNELS_6_11__LAG_1500_0__80MELS\n",
      "SimpleNetBase_WithLSTM__CNANNELS_24_29__LAG_1500_0__80MELS\n",
      "SimpleNetBase_WithLSTM__CNANNELS_0_5__LAG_1500_0__80MELS\n",
      "LargeNet__CNANNELS_6_11__LAG_1500_1500__80MELS\n",
      "LargeNet__CNANNELS_6_11__LAG_1500_1500__80MELS\n",
      "SimpleNetBase_WithLSTM__CNANNELS_6_11__LAG_1500_1500__80MELS\n",
      "SimpleNetBase_WithLSTM__CNANNELS_0_5__LAG_1500_0__80MELS\n",
      "SimpleNetBase_WithLSTM__CNANNELS_6_11__LAG_1500_0__80MELS\n",
      "SimpleNetBase_WithLSTM__CNANNELS_6_11__LAG_1500_1500__80MELS\n",
      "SimpleNetBase_WithLSTM__CNANNELS_6_11__LAG_1500_1500__80MELS\n",
      "SimpleNetBase_WithLSTM__CNANNELS_12_17__LAG_1500_0__80MELS\n",
      "SimpleNetBase_WithLSTM__CNANNELS_18_23__LAG_1500_0__80MELS\n",
      "SimpleNetBase_WithLSTM__CNANNELS_6_11__LAG_1500_1500__80MELS\n",
      "SimpleNetBase_WithLSTM__CNANNELS_12_17__LAG_1500_0__80MELS\n",
      "SimpleNetBase_WithLSTM__CNANNELS_12_17__LAG_1500_0__80MELS\n",
      "SimpleNetBase_WithLSTM__CNANNELS_6_11__LAG_0_1500__80MELS\n",
      "LargeNet__CNANNELS_6_11__LAG_1500_1500__80MELS\n",
      "SimpleNetBase_WithLSTM__CNANNELS_18_23__LAG_1500_0__80MELS\n",
      "SimpleNetBase_WithLSTM__CNANNELS_6_11__LAG_0_1500__80MELS\n",
      "SimpleNetBase_WithLSTM__CNANNELS_12_17__LAG_1500_0__80MELS\n",
      "SimpleNetBase_WithLSTM__CNANNELS_6_11__LAG_0_1500__80MELS\n",
      "SimpleNetBase_WithLSTM__CNANNELS_18_23__LAG_1500_0__80MELS\n",
      "SimpleNetBase_WithLSTM__CNANNELS_0_5__LAG_1500_0__80MELS\n",
      "SimpleNetBase_WithLSTM__CNANNELS_6_11__LAG_1500_1500__80MELS\n",
      "SimpleNetBase_WithLSTM__CNANNELS_0_5__LAG_1500_0__80MELS\n",
      "LargeNet__CNANNELS_6_11__LAG_1500_1500__80MELS\n",
      "SimpleNetBase_WithLSTM__CNANNELS_6_10__LAG_1500_0__80MELS\n",
      "SimpleNetBase_WithLSTM__CNANNELS_6_10__LAG_1500_0__80MELS\n",
      "SimpleNetBase_WithLSTM__CNANNELS_6_11__LAG_1500_0__80MELS\n",
      "SimpleNetBase_WithLSTM__CNANNELS_6_10__LAG_1500_0__80MELS\n",
      "SimpleNetBase_WithLSTM__CNANNELS_6_10__LAG_1500_0__80MELS\n",
      "SimpleNetBase_WithLSTM__CNANNELS_24_29__LAG_1500_0__80MELS\n",
      "SimpleNetBase_WithLSTM__CNANNELS_6_10__LAG_1500_0__80MELS\n"
     ]
    }
   ],
   "source": [
    "results = {}\n",
    "for filename in tqdm_notebook(os.listdir(RESULTS_FOLDER)):\n",
    "    if not filename.endswith(\".json\"):\n",
    "        continue\n",
    "    model_name = filename[PREFIX_SIZE:-SUFFUX_SIZE]\n",
    "    print(model_name)\n",
    "    with open(f\"{RESULTS_FOLDER}/{filename}\") as result_file:\n",
    "        results[model_name] = results.get(model_name, [])\n",
    "        results[model_name].append(json.load(result_file))"
   ]
  },
  {
   "cell_type": "code",
   "execution_count": null,
   "metadata": {},
   "outputs": [],
   "source": [
    "# result[\"train_corr\"] = np.mean(corr_multiple(*get_random_predictions(bench_model.model, train_generator, METRIC_ITERATIONS)))\n",
    "# result[\"val_corr\"] = np.mean(corr_multiple(*get_random_predictions(bench_model.model, val_generator, METRIC_ITERATIONS)))\n",
    "# result[\"test_corr\"] = np.mean(corr_multiple(*get_random_predictions(bench_model.model, test_generator, METRIC_ITERATIONS)))\n",
    "# result[\"train_logs\"] = bench_model.logger.train_logs\n",
    "# result[\"val_logs\"] = bench_model.logger.test_logs\n",
    "# result[\"iterations\"] = MAX_ITERATIONS_COUNT"
   ]
  },
  {
   "cell_type": "code",
   "execution_count": 92,
   "metadata": {},
   "outputs": [
    {
     "data": {
      "text/plain": [
       "['SimpleNetBase_WithLSTM__CNANNELS_6_11__LAG_1500_1500__80MELS',\n",
       " 'SimpleNetBase_WithLSTM__CNANNELS_18_23__LAG_1500_0__80MELS',\n",
       " 'SimpleNetBase_WithLSTM__CNANNELS_24_29__LAG_1500_0__80MELS',\n",
       " 'SimpleNetBase_WithLSTM__CNANNELS_6_10__LAG_1500_0__80MELS',\n",
       " 'SimpleNetBase_WithLSTM__CNANNELS_6_11__LAG_0_1500__80MELS',\n",
       " 'SimpleNetBase_WithLSTM__CNANNELS_0_5__LAG_1500_0__80MELS',\n",
       " 'SimpleNetBase_WithLSTM__CNANNELS_6_11__LAG_1500_0__80MELS',\n",
       " 'SimpleNetBase_WithLSTM__CNANNELS_12_17__LAG_1500_0__80MELS',\n",
       " 'LargeNet__CNANNELS_6_11__LAG_1500_1500__80MELS']"
      ]
     },
     "execution_count": 92,
     "metadata": {},
     "output_type": "execute_result"
    }
   ],
   "source": [
    "list(results.keys())"
   ]
  },
  {
   "cell_type": "code",
   "execution_count": 95,
   "metadata": {},
   "outputs": [],
   "source": [
    "results_pandas = []\n",
    "for model_name, model_results in results.items():\n",
    "    for model_result in model_results:\n",
    "        results_pandas.append({\"correlation\": model_result[\"test_corr\"], \"model\": model_name})\n"
   ]
  },
  {
   "cell_type": "code",
   "execution_count": 96,
   "metadata": {},
   "outputs": [],
   "source": [
    "pandas_data_full = pd.DataFrame(results_pandas)\n",
    "\n",
    "def boxplot_models(models_to_plot):\n",
    "    models_names = list(map(lambda x: x[\"model_name\"], models_to_plot))\n",
    "    models_name_map = {x[\"model_name\"]: x[\"model_plot_name\"] for x in models_to_plot}\n",
    "    models_plot_names = list(map(lambda x: x[\"model_plot_name\"], models_to_plot))\n",
    "    pandas_data_selected = pandas_data_full[pandas_data_full[\"model\"].isin(models_names)]\n",
    "    pandas_data_selected['model'] = pandas_data_selected.apply(lambda x: models_name_map[x[\"model\"]], axis=1)\n",
    "    sns.boxplot(x=\"model\", y=\"correlation\", data=pandas_data_selected, order=models_plot_names) "
   ]
  },
  {
   "cell_type": "code",
   "execution_count": 97,
   "metadata": {},
   "outputs": [
    {
     "name": "stderr",
     "output_type": "stream",
     "text": [
      "/home/pet67/.local/lib/python3.6/site-packages/ipykernel_launcher.py:8: SettingWithCopyWarning: \n",
      "A value is trying to be set on a copy of a slice from a DataFrame.\n",
      "Try using .loc[row_indexer,col_indexer] = value instead\n",
      "\n",
      "See the caveats in the documentation: https://pandas.pydata.org/pandas-docs/stable/user_guide/indexing.html#returning-a-view-versus-a-copy\n",
      "  \n"
     ]
    },
    {
     "data": {
      "image/png": "[encoded data removed]",
      "text/plain": [
       "<Figure size 432x288 with 1 Axes>"
      ]
     },
     "metadata": {
      "needs_background": "light"
     },
     "output_type": "display_data"
    }
   ],
   "source": [
    "boxplot_models([\n",
    "    {\n",
    "        \"model_name\": 'SimpleNetBase_WithLSTM__CNANNELS_6_11__LAG_1500_0__80MELS', \n",
    "        \"model_plot_name\": \"causal\",\n",
    "    },\n",
    "    {\n",
    "        \"model_name\": 'SimpleNetBase_WithLSTM__CNANNELS_6_11__LAG_0_1500__80MELS', \n",
    "        \"model_plot_name\": \"non-causal\",\n",
    "    },\n",
    "    {\n",
    "        \"model_name\": 'SimpleNetBase_WithLSTM__CNANNELS_6_11__LAG_1500_1500__80MELS', \n",
    "        \"model_plot_name\": \"both\",\n",
    "    },\n",
    "])\n",
    "\n"
   ]
  },
  {
   "cell_type": "code",
   "execution_count": 98,
   "metadata": {},
   "outputs": [
    {
     "name": "stderr",
     "output_type": "stream",
     "text": [
      "/home/pet67/.local/lib/python3.6/site-packages/ipykernel_launcher.py:8: SettingWithCopyWarning: \n",
      "A value is trying to be set on a copy of a slice from a DataFrame.\n",
      "Try using .loc[row_indexer,col_indexer] = value instead\n",
      "\n",
      "See the caveats in the documentation: https://pandas.pydata.org/pandas-docs/stable/user_guide/indexing.html#returning-a-view-versus-a-copy\n",
      "  \n"
     ]
    },
    {
     "data": {
      "image/png": "[encoded data removed]",
      "text/plain": [
       "<Figure size 432x288 with 1 Axes>"
      ]
     },
     "metadata": {
      "needs_background": "light"
     },
     "output_type": "display_data"
    }
   ],
   "source": [
    "boxplot_models([\n",
    "    {\n",
    "        \"model_name\": 'SimpleNetBase_WithLSTM__CNANNELS_0_5__LAG_1500_0__80MELS', \n",
    "        \"model_plot_name\": \"00_05\",\n",
    "    },\n",
    "    {\n",
    "        \"model_name\": 'SimpleNetBase_WithLSTM__CNANNELS_6_11__LAG_1500_0__80MELS', \n",
    "        \"model_plot_name\": \"06_11\",\n",
    "    },\n",
    "    {\n",
    "        \"model_name\": 'SimpleNetBase_WithLSTM__CNANNELS_12_17__LAG_1500_0__80MELS', \n",
    "        \"model_plot_name\": \"12_17\",\n",
    "    },\n",
    "    {\n",
    "        \"model_name\": 'SimpleNetBase_WithLSTM__CNANNELS_18_23__LAG_1500_0__80MELS', \n",
    "        \"model_plot_name\": \"18_23\",\n",
    "    },\n",
    "    {\n",
    "        \"model_name\": 'SimpleNetBase_WithLSTM__CNANNELS_24_29__LAG_1500_0__80MELS', \n",
    "        \"model_plot_name\": \"24_29\",\n",
    "    },\n",
    "])"
   ]
  },
  {
   "cell_type": "code",
   "execution_count": 99,
   "metadata": {},
   "outputs": [
    {
     "name": "stderr",
     "output_type": "stream",
     "text": [
      "/home/pet67/.local/lib/python3.6/site-packages/ipykernel_launcher.py:8: SettingWithCopyWarning: \n",
      "A value is trying to be set on a copy of a slice from a DataFrame.\n",
      "Try using .loc[row_indexer,col_indexer] = value instead\n",
      "\n",
      "See the caveats in the documentation: https://pandas.pydata.org/pandas-docs/stable/user_guide/indexing.html#returning-a-view-versus-a-copy\n",
      "  \n"
     ]
    },
    {
     "data": {
      "image/png": "[encoded data removed]",
      "text/plain": [
       "<Figure size 432x288 with 1 Axes>"
      ]
     },
     "metadata": {
      "needs_background": "light"
     },
     "output_type": "display_data"
    }
   ],
   "source": [
    "boxplot_models([\n",
    "    {\n",
    "        \"model_name\": 'SimpleNetBase_WithLSTM__CNANNELS_6_11__LAG_1500_0__80MELS', \n",
    "        \"model_plot_name\": \"06_11\",\n",
    "    },\n",
    "    {\n",
    "        \"model_name\": 'SimpleNetBase_WithLSTM__CNANNELS_6_10__LAG_1500_0__80MELS', \n",
    "        \"model_plot_name\": \"06_10\",\n",
    "    },\n",
    "])"
   ]
  },
  {
   "cell_type": "code",
   "execution_count": 104,
   "metadata": {},
   "outputs": [
    {
     "data": {
      "text/plain": [
       "['regression_SimpleNetBase_WithLSTM__CNANNELS_6_11__LAG_1500_1500__80MELS_2021-09-12 06:15:49.595301.json',\n",
       " 'regression_SimpleNetBase_WithLSTM__CNANNELS_18_23__LAG_1500_0__80MELS_2021-09-12 11:14:28.566642.json',\n",
       " 'regression_SimpleNetBase_WithLSTM__CNANNELS_24_29__LAG_1500_0__80MELS_2021-09-12 12:00:08.038016.json',\n",
       " 'regression_SimpleNetBase_WithLSTM__CNANNELS_6_10__LAG_1500_0__80MELS_2021-09-12 03:50:59.248068.json',\n",
       " 'regression_LargeNet__CNANNELS_6_11__LAG_1500_1500__80MELS_2021-09-12 16:11:54.826737.json',\n",
       " 'regression_SimpleNetBase_WithLSTM__CNANNELS_6_11__LAG_0_1500__80MELS_2021-09-12 07:39:46.904471.json',\n",
       " 'regression_SimpleNetBase_WithLSTM__CNANNELS_24_29__LAG_1500_0__80MELS_2021-09-12 12:34:37.442145.json',\n",
       " 'regression_SimpleNetBase_WithLSTM__CNANNELS_0_5__LAG_1500_0__80MELS_2021-09-12 08:48:03.148471.json',\n",
       " 'regression_SimpleNetBase_WithLSTM__CNANNELS_18_23__LAG_1500_0__80MELS_2021-09-12 10:40:02.298077.json',\n",
       " 'regression_SimpleNetBase_WithLSTM__CNANNELS_18_23__LAG_1500_0__80MELS_2021-09-12 11:37:04.125574.json',\n",
       " 'regression_SimpleNetBase_WithLSTM__CNANNELS_6_11__LAG_1500_0__80MELS_2021-09-12 02:43:54.830386.json',\n",
       " 'regression_SimpleNetBase_WithLSTM__CNANNELS_6_11__LAG_1500_0__80MELS_2021-09-12 02:21:38.544390.json',\n",
       " 'regression_SimpleNetBase_WithLSTM__CNANNELS_12_17__LAG_1500_0__80MELS_2021-09-12 10:06:02.091458.json',\n",
       " 'regression_LargeNet__CNANNELS_6_11__LAG_1500_1500__80MELS_2021-09-12 14:50:17.989670.json',\n",
       " 'regression_SimpleNetBase_WithLSTM__CNANNELS_6_11__LAG_0_1500__80MELS_2021-09-12 06:42:59.751914.json',\n",
       " 'regression_SimpleNetBase_WithLSTM__CNANNELS_24_29__LAG_1500_0__80MELS_2021-09-12 12:11:27.135761.json',\n",
       " 'regression_SimpleNetBase_WithLSTM__CNANNELS_24_29__LAG_1500_0__80MELS_2021-09-12 12:46:32.636812.json',\n",
       " 'regression_SimpleNetBase_WithLSTM__CNANNELS_6_11__LAG_0_1500__80MELS_2021-09-12 06:54:40.343279.json',\n",
       " 'regression_SimpleNetBase_WithLSTM__CNANNELS_6_11__LAG_1500_0__80MELS_2021-09-12 02:54:25.624383.json',\n",
       " 'regression_SimpleNetBase_WithLSTM__CNANNELS_12_17__LAG_1500_0__80MELS_2021-09-12 09:32:45.043407.json',\n",
       " 'regression_SimpleNetBase_WithLSTM__CNANNELS_0_5__LAG_1500_0__80MELS_2021-09-12 08:14:39.180848.json',\n",
       " 'regression_SimpleNetBase_WithLSTM__CNANNELS_6_11__LAG_1500_0__80MELS_2021-09-12 03:16:10.954572.json',\n",
       " 'regression_SimpleNetBase_WithLSTM__CNANNELS_24_29__LAG_1500_0__80MELS_2021-09-12 12:57:40.836037.json',\n",
       " 'regression_SimpleNetBase_WithLSTM__CNANNELS_0_5__LAG_1500_0__80MELS_2021-09-12 08:58:47.391212.json',\n",
       " 'regression_LargeNet__CNANNELS_6_11__LAG_1500_1500__80MELS_2021-09-12 16:32:18.764745.json',\n",
       " 'regression_LargeNet__CNANNELS_6_11__LAG_1500_1500__80MELS_2021-09-12 15:51:31.356968.json',\n",
       " 'regression_SimpleNetBase_WithLSTM__CNANNELS_6_11__LAG_1500_1500__80MELS_2021-09-12 05:44:56.368281.json',\n",
       " 'regression_SimpleNetBase_WithLSTM__CNANNELS_0_5__LAG_1500_0__80MELS_2021-09-12 08:36:48.990908.json',\n",
       " 'regression_SimpleNetBase_WithLSTM__CNANNELS_6_11__LAG_1500_0__80MELS_2021-09-12 02:33:17.199986.json',\n",
       " 'regression_SimpleNetBase_WithLSTM__CNANNELS_6_11__LAG_1500_1500__80MELS_2021-09-12 05:14:59.585212.json',\n",
       " 'regression_SimpleNetBase_WithLSTM__CNANNELS_6_11__LAG_1500_1500__80MELS_2021-09-12 05:29:58.635950.json',\n",
       " 'regression_SimpleNetBase_WithLSTM__CNANNELS_12_17__LAG_1500_0__80MELS_2021-09-12 09:54:50.614994.json',\n",
       " 'regression_SimpleNetBase_WithLSTM__CNANNELS_18_23__LAG_1500_0__80MELS_2021-09-12 10:51:56.047950.json',\n",
       " 'regression_SimpleNetBase_WithLSTM__CNANNELS_6_11__LAG_1500_1500__80MELS_2021-09-12 06:00:51.837846.json',\n",
       " 'regression_SimpleNetBase_WithLSTM__CNANNELS_12_17__LAG_1500_0__80MELS_2021-09-12 09:21:28.194396.json',\n",
       " 'regression_SimpleNetBase_WithLSTM__CNANNELS_12_17__LAG_1500_0__80MELS_2021-09-12 10:17:11.004296.json',\n",
       " 'regression_SimpleNetBase_WithLSTM__CNANNELS_6_11__LAG_0_1500__80MELS_2021-09-12 07:05:50.045051.json',\n",
       " 'regression_LargeNet__CNANNELS_6_11__LAG_1500_1500__80MELS_2021-09-12 15:31:07.191931.json',\n",
       " 'regression_SimpleNetBase_WithLSTM__CNANNELS_18_23__LAG_1500_0__80MELS_2021-09-12 11:03:03.492863.json',\n",
       " 'regression_SimpleNetBase_WithLSTM__CNANNELS_6_11__LAG_0_1500__80MELS_2021-09-12 07:28:32.378030.json',\n",
       " 'regression_SimpleNetBase_WithLSTM__CNANNELS_12_17__LAG_1500_0__80MELS_2021-09-12 09:43:50.194772.json',\n",
       " 'regression_SimpleNetBase_WithLSTM__CNANNELS_6_11__LAG_0_1500__80MELS_2021-09-12 07:16:58.264644.json',\n",
       " 'regression_SimpleNetBase_WithLSTM__CNANNELS_18_23__LAG_1500_0__80MELS_2021-09-12 11:26:13.936817.json',\n",
       " 'regression_SimpleNetBase_WithLSTM__CNANNELS_0_5__LAG_1500_0__80MELS_2021-09-12 08:25:39.952839.json',\n",
       " 'regression_SimpleNetBase_WithLSTM__CNANNELS_6_11__LAG_1500_1500__80MELS_2021-09-12 04:59:02.201711.json',\n",
       " 'regression_SimpleNetBase_WithLSTM__CNANNELS_0_5__LAG_1500_0__80MELS_2021-09-12 08:03:12.537362.json',\n",
       " 'regression_LargeNet__CNANNELS_6_11__LAG_1500_1500__80MELS_2021-09-12 15:10:39.321019.json',\n",
       " 'regression_SimpleNetBase_WithLSTM__CNANNELS_6_10__LAG_1500_0__80MELS_2021-09-12 03:38:50.134070.json',\n",
       " 'regression_SimpleNetBase_WithLSTM__CNANNELS_6_10__LAG_1500_0__80MELS_2021-09-12 04:35:50.207864.json',\n",
       " 'regression_SimpleNetBase_WithLSTM__CNANNELS_6_11__LAG_1500_0__80MELS_2021-09-12 03:05:39.680234.json',\n",
       " 'regression_SimpleNetBase_WithLSTM__CNANNELS_6_10__LAG_1500_0__80MELS_2021-09-12 04:13:00.768551.json',\n",
       " 'regression_SimpleNetBase_WithLSTM__CNANNELS_6_10__LAG_1500_0__80MELS_2021-09-12 04:01:59.572162.json',\n",
       " '.ipynb_checkpoints',\n",
       " 'regression_SimpleNetBase_WithLSTM__CNANNELS_24_29__LAG_1500_0__80MELS_2021-09-12 12:22:24.646867.json',\n",
       " 'regression_SimpleNetBase_WithLSTM__CNANNELS_6_10__LAG_1500_0__80MELS_2021-09-12 04:24:49.304951.json']"
      ]
     },
     "execution_count": 104,
     "metadata": {},
     "output_type": "execute_result"
    }
   ],
   "source": [
    "os.listdir(\"../results\")\n",
    "\n"
   ]
  },
  {
   "cell_type": "code",
   "execution_count": 119,
   "metadata": {},
   "outputs": [
    {
     "data": {
      "text/plain": [
       "('regression',\n",
       " 'SimpleNetBase_WithLSTM__CNANNELS_24_29__LAG_1500_0__80MELS',\n",
       " '2021-09-12 12:22:24.646867')"
      ]
     },
     "execution_count": 119,
     "metadata": {},
     "output_type": "execute_result"
    }
   ],
   "source": [
    "split_name('regression_SimpleNetBase_WithLSTM__CNANNELS_24_29__LAG_1500_0__80MELS_2021-09-12 12:22:24.646867.json')"
   ]
  },
  {
   "cell_type": "code",
   "execution_count": null,
   "metadata": {},
   "outputs": [],
   "source": []
  },
  {
   "cell_type": "code",
   "execution_count": 118,
   "metadata": {},
   "outputs": [],
   "source": []
  },
  {
   "cell_type": "code",
   "execution_count": 100,
   "metadata": {},
   "outputs": [
    {
     "name": "stderr",
     "output_type": "stream",
     "text": [
      "/home/pet67/.local/lib/python3.6/site-packages/ipykernel_launcher.py:8: SettingWithCopyWarning: \n",
      "A value is trying to be set on a copy of a slice from a DataFrame.\n",
      "Try using .loc[row_indexer,col_indexer] = value instead\n",
      "\n",
      "See the caveats in the documentation: https://pandas.pydata.org/pandas-docs/stable/user_guide/indexing.html#returning-a-view-versus-a-copy\n",
      "  \n"
     ]
    },
    {
     "data": {
      "image/png": "[encoded data removed]",
      "text/plain": [
       "<Figure size 432x288 with 1 Axes>"
      ]
     },
     "metadata": {
      "needs_background": "light"
     },
     "output_type": "display_data"
    }
   ],
   "source": [
    "boxplot_models([\n",
    "    {\n",
    "        \"model_name\": 'SimpleNetBase_WithLSTM__CNANNELS_6_11__LAG_1500_0__80MELS', \n",
    "        \"model_plot_name\": \"CompactNet\",\n",
    "    },\n",
    "    {\n",
    "        \"model_name\": 'LargeNet__CNANNELS_6_11__LAG_1500_1500__80MELS', \n",
    "        \"model_plot_name\": \"DeepNet\",\n",
    "    },\n",
    "])"
   ]
  },
  {
   "cell_type": "code",
   "execution_count": null,
   "metadata": {},
   "outputs": [],
   "source": []
  }
 ],
 "metadata": {
  "kernelspec": {
   "display_name": "Python 3",
   "language": "python",
   "name": "python3"
  }
 },
 "nbformat": 4,
 "nbformat_minor": 4
}
