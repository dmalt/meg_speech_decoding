{
 "cells": [
  {
   "cell_type": "code",
   "execution_count": 82,
   "metadata": {},
   "outputs": [],
   "source": [
    "import json\n",
    "import os\n",
    "from tqdm import tqdm_notebook\n",
    "import numpy as np"
   ]
  },
  {
   "cell_type": "code",
   "execution_count": 85,
   "metadata": {},
   "outputs": [],
   "source": [
    "RESULTS_FOLDER = \"../results\"\n",
    "PREFIX_SIZE = len(\"regression_\")\n",
    "SUFFUX_SIZE = len(\"_2021-09-12 08:03:12.537362.json\")"
   ]
  },
  {
   "cell_type": "code",
   "execution_count": 86,
   "metadata": {},
   "outputs": [
    {
     "name": "stderr",
     "output_type": "stream",
     "text": [
      "/home/pet67/.local/lib/python3.6/site-packages/ipykernel_launcher.py:2: TqdmDeprecationWarning: This function will be removed in tqdm==5.0.0\n",
      "Please use `tqdm.notebook.tqdm` instead of `tqdm.tqdm_notebook`\n",
      "  \n"
     ]
    },
    {
     "data": {
      "application/vnd.jupyter.widget-view+json": {
       "model_id": "7dadb28a8a2a43a7af040ecc327329be",
       "version_major": 2,
       "version_minor": 0
      },
      "text/plain": [
       "  0%|          | 0/52 [00:00<?, ?it/s]"
      ]
     },
     "metadata": {},
     "output_type": "display_data"
    },
    {
     "name": "stdout",
     "output_type": "stream",
     "text": [
      "SimpleNetBase_WithLSTM__CNANNELS_6_11__LAG_1500_1500__80MELS\n",
      "SimpleNetBase_WithLSTM__CNANNELS_18_23__LAG_1500_0__80MELS\n",
      "SimpleNetBase_WithLSTM__CNANNELS_24_29__LAG_1500_0__80MELS\n",
      "SimpleNetBase_WithLSTM__CNANNELS_6_10__LAG_1500_0__80MELS\n",
      "SimpleNetBase_WithLSTM__CNANNELS_6_11__LAG_0_1500__80MELS\n",
      "SimpleNetBase_WithLSTM__CNANNELS_24_29__LAG_1500_0__80MELS\n",
      "SimpleNetBase_WithLSTM__CNANNELS_0_5__LAG_1500_0__80MELS\n",
      "SimpleNetBase_WithLSTM__CNANNELS_18_23__LAG_1500_0__80MELS\n",
      "SimpleNetBase_WithLSTM__CNANNELS_18_23__LAG_1500_0__80MELS\n",
      "SimpleNetBase_WithLSTM__CNANNELS_6_11__LAG_1500_0__80MELS\n",
      "SimpleNetBase_WithLSTM__CNANNELS_6_11__LAG_1500_0__80MELS\n",
      "SimpleNetBase_WithLSTM__CNANNELS_12_17__LAG_1500_0__80MELS\n",
      "LargeNet__CNANNELS_6_11__LAG_1500_1500__80MELS\n",
      "SimpleNetBase_WithLSTM__CNANNELS_6_11__LAG_0_1500__80MELS\n",
      "SimpleNetBase_WithLSTM__CNANNELS_24_29__LAG_1500_0__80MELS\n",
      "SimpleNetBase_WithLSTM__CNANNELS_24_29__LAG_1500_0__80MELS\n",
      "SimpleNetBase_WithLSTM__CNANNELS_6_11__LAG_0_1500__80MELS\n",
      "SimpleNetBase_WithLSTM__CNANNELS_6_11__LAG_1500_0__80MELS\n",
      "SimpleNetBase_WithLSTM__CNANNELS_12_17__LAG_1500_0__80MELS\n",
      "SimpleNetBase_WithLSTM__CNANNELS_0_5__LAG_1500_0__80MELS\n",
      "SimpleNetBase_WithLSTM__CNANNELS_6_11__LAG_1500_0__80MELS\n",
      "SimpleNetBase_WithLSTM__CNANNELS_24_29__LAG_1500_0__80MELS\n",
      "SimpleNetBase_WithLSTM__CNANNELS_0_5__LAG_1500_0__80MELS\n",
      "SimpleNetBase_WithLSTM__CNANNELS_6_11__LAG_1500_1500__80MELS\n",
      "SimpleNetBase_WithLSTM__CNANNELS_0_5__LAG_1500_0__80MELS\n",
      "SimpleNetBase_WithLSTM__CNANNELS_6_11__LAG_1500_0__80MELS\n",
      "SimpleNetBase_WithLSTM__CNANNELS_6_11__LAG_1500_1500__80MELS\n",
      "SimpleNetBase_WithLSTM__CNANNELS_6_11__LAG_1500_1500__80MELS\n",
      "SimpleNetBase_WithLSTM__CNANNELS_12_17__LAG_1500_0__80MELS\n",
      "SimpleNetBase_WithLSTM__CNANNELS_18_23__LAG_1500_0__80MELS\n",
      "SimpleNetBase_WithLSTM__CNANNELS_6_11__LAG_1500_1500__80MELS\n",
      "SimpleNetBase_WithLSTM__CNANNELS_12_17__LAG_1500_0__80MELS\n",
      "SimpleNetBase_WithLSTM__CNANNELS_12_17__LAG_1500_0__80MELS\n",
      "SimpleNetBase_WithLSTM__CNANNELS_6_11__LAG_0_1500__80MELS\n",
      "LargeNet__CNANNELS_6_11__LAG_1500_1500__80MELS\n",
      "SimpleNetBase_WithLSTM__CNANNELS_18_23__LAG_1500_0__80MELS\n",
      "SimpleNetBase_WithLSTM__CNANNELS_6_11__LAG_0_1500__80MELS\n",
      "SimpleNetBase_WithLSTM__CNANNELS_12_17__LAG_1500_0__80MELS\n",
      "SimpleNetBase_WithLSTM__CNANNELS_6_11__LAG_0_1500__80MELS\n",
      "SimpleNetBase_WithLSTM__CNANNELS_18_23__LAG_1500_0__80MELS\n",
      "SimpleNetBase_WithLSTM__CNANNELS_0_5__LAG_1500_0__80MELS\n",
      "SimpleNetBase_WithLSTM__CNANNELS_6_11__LAG_1500_1500__80MELS\n",
      "SimpleNetBase_WithLSTM__CNANNELS_0_5__LAG_1500_0__80MELS\n",
      "LargeNet__CNANNELS_6_11__LAG_1500_1500__80MELS\n",
      "SimpleNetBase_WithLSTM__CNANNELS_6_10__LAG_1500_0__80MELS\n",
      "SimpleNetBase_WithLSTM__CNANNELS_6_10__LAG_1500_0__80MELS\n",
      "SimpleNetBase_WithLSTM__CNANNELS_6_11__LAG_1500_0__80MELS\n",
      "SimpleNetBase_WithLSTM__CNANNELS_6_10__LAG_1500_0__80MELS\n",
      "SimpleNetBase_WithLSTM__CNANNELS_6_10__LAG_1500_0__80MELS\n",
      "SimpleNetBase_WithLSTM__CNANNELS_24_29__LAG_1500_0__80MELS\n",
      "SimpleNetBase_WithLSTM__CNANNELS_6_10__LAG_1500_0__80MELS\n"
     ]
    }
   ],
   "source": [
    "results = {}\n",
    "for filename in tqdm_notebook(os.listdir(RESULTS_FOLDER)):\n",
    "    if not filename.endswith(\".json\"):\n",
    "        continue\n",
    "    model_name = filename[PREFIX_SIZE:-SUFFUX_SIZE]\n",
    "    print(model_name)\n",
    "    with open(f\"{RESULTS_FOLDER}/{filename}\") as result_file:\n",
    "        results[model_name] = results.get(model_name, [])\n",
    "        results[model_name].append(json.load(result_file))"
   ]
  },
  {
   "cell_type": "code",
   "execution_count": null,
   "metadata": {},
   "outputs": [],
   "source": [
    "# result[\"train_corr\"] = np.mean(corr_multiple(*get_random_predictions(bench_model.model, train_generator, METRIC_ITERATIONS)))\n",
    "# result[\"val_corr\"] = np.mean(corr_multiple(*get_random_predictions(bench_model.model, val_generator, METRIC_ITERATIONS)))\n",
    "# result[\"test_corr\"] = np.mean(corr_multiple(*get_random_predictions(bench_model.model, test_generator, METRIC_ITERATIONS)))\n",
    "# result[\"train_logs\"] = bench_model.logger.train_logs\n",
    "# result[\"val_logs\"] = bench_model.logger.test_logs\n",
    "# result[\"iterations\"] = MAX_ITERATIONS_COUNT"
   ]
  },
  {
   "cell_type": "code",
   "execution_count": 92,
   "metadata": {},
   "outputs": [
    {
     "data": {
      "text/plain": [
       "['SimpleNetBase_WithLSTM__CNANNELS_6_11__LAG_1500_1500__80MELS',\n",
       " 'SimpleNetBase_WithLSTM__CNANNELS_18_23__LAG_1500_0__80MELS',\n",
       " 'SimpleNetBase_WithLSTM__CNANNELS_24_29__LAG_1500_0__80MELS',\n",
       " 'SimpleNetBase_WithLSTM__CNANNELS_6_10__LAG_1500_0__80MELS',\n",
       " 'SimpleNetBase_WithLSTM__CNANNELS_6_11__LAG_0_1500__80MELS',\n",
       " 'SimpleNetBase_WithLSTM__CNANNELS_0_5__LAG_1500_0__80MELS',\n",
       " 'SimpleNetBase_WithLSTM__CNANNELS_6_11__LAG_1500_0__80MELS',\n",
       " 'SimpleNetBase_WithLSTM__CNANNELS_12_17__LAG_1500_0__80MELS',\n",
       " 'LargeNet__CNANNELS_6_11__LAG_1500_1500__80MELS']"
      ]
     },
     "execution_count": 92,
     "metadata": {},
     "output_type": "execute_result"
    }
   ],
   "source": [
    "list(results.keys())"
   ]
  },
  {
   "cell_type": "code",
   "execution_count": 87,
   "metadata": {},
   "outputs": [],
   "source": [
    "results_pandas = []\n",
    "for model_name, model_results in results.items():\n",
    "    for model_result in model_results:\n",
    "        results_pandas.append({\"correlation\": model_result[\"test_corr\"], \"model\": model_name})\n"
   ]
  },
  {
   "cell_type": "code",
   "execution_count": 88,
   "metadata": {},
   "outputs": [],
   "source": [
    "pandas_data_full = pd.DataFrame(results_pandas)\n",
    "\n",
    "def boxplot_models(models_to_plot):\n",
    "    models_names = list(map(lambda x: x[\"model_name\"], models_to_plot))\n",
    "    models_name_map = {x[\"model_name\"]: x[\"model_plot_name\"] for x in models_to_plot}\n",
    "    models_plot_names = list(map(lambda x: x[\"model_plot_name\"], models_to_plot))\n",
    "    pandas_data_selected = pandas_data_full[pandas_data_full[\"model\"].isin(models_names)]\n",
    "    pandas_data_selected['model'] = pandas_data_selected.apply(lambda x: models_name_map[x[\"model\"]], axis=1)\n",
    "    sns.boxplot(x=\"model\", y=\"correlation\", data=pandas_data_selected, order=models_plot_names) "
   ]
  },
  {
   "cell_type": "code",
   "execution_count": 89,
   "metadata": {},
   "outputs": [
    {
     "name": "stderr",
     "output_type": "stream",
     "text": [
      "/home/pet67/.local/lib/python3.6/site-packages/ipykernel_launcher.py:8: SettingWithCopyWarning: \n",
      "A value is trying to be set on a copy of a slice from a DataFrame.\n",
      "Try using .loc[row_indexer,col_indexer] = value instead\n",
      "\n",
      "See the caveats in the documentation: https://pandas.pydata.org/pandas-docs/stable/user_guide/indexing.html#returning-a-view-versus-a-copy\n",
      "  \n"
     ]
    },
    {
     "data": {
      "image/png": "[encoded data removed]",
      "text/plain": [
       "<Figure size 432x288 with 1 Axes>"
      ]
     },
     "metadata": {
      "needs_background": "light"
     },
     "output_type": "display_data"
    }
   ],
   "source": [
    "boxplot_models([\n",
    "    {\n",
    "        \"model_name\": 'SimpleNetBase_WithLSTM__CNANNELS_6_11__LAG_1500_0__80MELS', \n",
    "        \"model_plot_name\": \"causal\",\n",
    "    },\n",
    "    {\n",
    "        \"model_name\": 'SimpleNetBase_WithLSTM__CNANNELS_6_11__LAG_0_1500__80MELS', \n",
    "        \"model_plot_name\": \"non-causal\",\n",
    "    },\n",
    "    {\n",
    "        \"model_name\": 'SimpleNetBase_WithLSTM__CNANNELS_6_11__LAG_1500_1500__80MELS', \n",
    "        \"model_plot_name\": \"both\",\n",
    "    },\n",
    "])\n",
    "\n"
   ]
  },
  {
   "cell_type": "code",
   "execution_count": 90,
   "metadata": {},
   "outputs": [
    {
     "name": "stderr",
     "output_type": "stream",
     "text": [
      "/home/pet67/.local/lib/python3.6/site-packages/ipykernel_launcher.py:8: SettingWithCopyWarning: \n",
      "A value is trying to be set on a copy of a slice from a DataFrame.\n",
      "Try using .loc[row_indexer,col_indexer] = value instead\n",
      "\n",
      "See the caveats in the documentation: https://pandas.pydata.org/pandas-docs/stable/user_guide/indexing.html#returning-a-view-versus-a-copy\n",
      "  \n"
     ]
    },
    {
     "data": {
      "image/png": "[encoded data removed]",
      "text/plain": [
       "<Figure size 432x288 with 1 Axes>"
      ]
     },
     "metadata": {
      "needs_background": "light"
     },
     "output_type": "display_data"
    }
   ],
   "source": [
    "boxplot_models([\n",
    "    {\n",
    "        \"model_name\": 'SimpleNetBase_WithLSTM__CNANNELS_0_5__LAG_1500_0__80MELS', \n",
    "        \"model_plot_name\": \"00_05\",\n",
    "    },\n",
    "    {\n",
    "        \"model_name\": 'SimpleNetBase_WithLSTM__CNANNELS_6_11__LAG_1500_0__80MELS', \n",
    "        \"model_plot_name\": \"06_11\",\n",
    "    },\n",
    "    {\n",
    "        \"model_name\": 'SimpleNetBase_WithLSTM__CNANNELS_12_17__LAG_1500_0__80MELS', \n",
    "        \"model_plot_name\": \"12_17\",\n",
    "    },\n",
    "    {\n",
    "        \"model_name\": 'SimpleNetBase_WithLSTM__CNANNELS_18_23__LAG_1500_0__80MELS', \n",
    "        \"model_plot_name\": \"18_23\",\n",
    "    },\n",
    "    {\n",
    "        \"model_name\": 'SimpleNetBase_WithLSTM__CNANNELS_24_29__LAG_1500_0__80MELS', \n",
    "        \"model_plot_name\": \"24_29\",\n",
    "    },\n",
    "])"
   ]
  },
  {
   "cell_type": "code",
   "execution_count": 91,
   "metadata": {},
   "outputs": [
    {
     "name": "stderr",
     "output_type": "stream",
     "text": [
      "/home/pet67/.local/lib/python3.6/site-packages/ipykernel_launcher.py:8: SettingWithCopyWarning: \n",
      "A value is trying to be set on a copy of a slice from a DataFrame.\n",
      "Try using .loc[row_indexer,col_indexer] = value instead\n",
      "\n",
      "See the caveats in the documentation: https://pandas.pydata.org/pandas-docs/stable/user_guide/indexing.html#returning-a-view-versus-a-copy\n",
      "  \n"
     ]
    },
    {
     "data": {
      "image/png": "[encoded data removed]",
      "text/plain": [
       "<Figure size 432x288 with 1 Axes>"
      ]
     },
     "metadata": {
      "needs_background": "light"
     },
     "output_type": "display_data"
    }
   ],
   "source": [
    "boxplot_models([\n",
    "    {\n",
    "        \"model_name\": 'SimpleNetBase_WithLSTM__CNANNELS_6_11__LAG_1500_0__80MELS', \n",
    "        \"model_plot_name\": \"06_11\",\n",
    "    },\n",
    "    {\n",
    "        \"model_name\": 'SimpleNetBase_WithLSTM__CNANNELS_6_10__LAG_1500_0__80MELS', \n",
    "        \"model_plot_name\": \"06_10\",\n",
    "    },\n",
    "])"
   ]
  },
  {
   "cell_type": "code",
   "execution_count": 93,
   "metadata": {},
   "outputs": [
    {
     "name": "stderr",
     "output_type": "stream",
     "text": [
      "/home/pet67/.local/lib/python3.6/site-packages/ipykernel_launcher.py:8: SettingWithCopyWarning: \n",
      "A value is trying to be set on a copy of a slice from a DataFrame.\n",
      "Try using .loc[row_indexer,col_indexer] = value instead\n",
      "\n",
      "See the caveats in the documentation: https://pandas.pydata.org/pandas-docs/stable/user_guide/indexing.html#returning-a-view-versus-a-copy\n",
      "  \n"
     ]
    },
    {
     "data": {
      "image/png": "[encoded data removed]",
      "text/plain": [
       "<Figure size 432x288 with 1 Axes>"
      ]
     },
     "metadata": {
      "needs_background": "light"
     },
     "output_type": "display_data"
    }
   ],
   "source": [
    "boxplot_models([\n",
    "    {\n",
    "        \"model_name\": 'SimpleNetBase_WithLSTM__CNANNELS_6_11__LAG_1500_0__80MELS', \n",
    "        \"model_plot_name\": \"CompactNet\",\n",
    "    },\n",
    "    {\n",
    "        \"model_name\": 'LargeNet__CNANNELS_6_11__LAG_1500_1500__80MELS', \n",
    "        \"model_plot_name\": \"DeepNet\",\n",
    "    },\n",
    "])"
   ]
  },
  {
   "cell_type": "code",
   "execution_count": null,
   "metadata": {},
   "outputs": [],
   "source": []
  }
 ],
 "metadata": {
  "kernelspec": {
   "display_name": "Python 3",
   "language": "python",
   "name": "python3"
  }
 },
 "nbformat": 4,
 "nbformat_minor": 4
}
